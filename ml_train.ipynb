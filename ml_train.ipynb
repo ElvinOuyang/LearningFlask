{
 "cells": [
  {
   "cell_type": "code",
   "execution_count": 13,
   "id": "d2a059c8-d44c-4084-9ce5-ffc50fa098a9",
   "metadata": {},
   "outputs": [],
   "source": [
    "import pandas as pd\n",
    "import numpy as np\n",
    "from sklearn.datasets import load_iris\n",
    "from sklearn.naive_bayes import GaussianNB\n",
    "import pickle"
   ]
  },
  {
   "cell_type": "code",
   "execution_count": 3,
   "id": "d762420b-c1e0-4fad-b643-e087d1f28fc5",
   "metadata": {},
   "outputs": [],
   "source": [
    "X, y = load_iris(return_X_y=True, as_frame=True)"
   ]
  },
  {
   "cell_type": "code",
   "execution_count": 5,
   "id": "8f92ccb5-95d1-43ea-8fbd-e56b0c7a9cd4",
   "metadata": {},
   "outputs": [],
   "source": [
    "colnames = X.columns\n",
    "X_train = X.values"
   ]
  },
  {
   "cell_type": "code",
   "execution_count": 24,
   "id": "7aa46a7b-589f-478e-b1d9-466923cf25cd",
   "metadata": {},
   "outputs": [
    {
     "data": {
      "text/plain": [
       "Index(['sepal length (cm)', 'sepal width (cm)', 'petal length (cm)',\n",
       "       'petal width (cm)'],\n",
       "      dtype='object')"
      ]
     },
     "execution_count": 24,
     "metadata": {},
     "output_type": "execute_result"
    }
   ],
   "source": [
    "colnames"
   ]
  },
  {
   "cell_type": "code",
   "execution_count": 7,
   "id": "19d1adf3-b9c3-4448-94af-18780570d370",
   "metadata": {},
   "outputs": [],
   "source": [
    "model = GaussianNB()"
   ]
  },
  {
   "cell_type": "code",
   "execution_count": 8,
   "id": "9c5c70d3-3dce-4c77-a3e8-b7d6f278de30",
   "metadata": {},
   "outputs": [
    {
     "data": {
      "text/plain": [
       "GaussianNB()"
      ]
     },
     "execution_count": 8,
     "metadata": {},
     "output_type": "execute_result"
    }
   ],
   "source": [
    "model.fit(X_train, y)"
   ]
  },
  {
   "cell_type": "code",
   "execution_count": 10,
   "id": "42ead701-4b32-4507-960d-18093708937d",
   "metadata": {},
   "outputs": [
    {
     "data": {
      "text/plain": [
       "array([[5.1, 3.5, 1.4, 0.2],\n",
       "       [4.9, 3. , 1.4, 0.2],\n",
       "       [4.7, 3.2, 1.3, 0.2]])"
      ]
     },
     "execution_count": 10,
     "metadata": {},
     "output_type": "execute_result"
    }
   ],
   "source": [
    "X_train[:3, :]"
   ]
  },
  {
   "cell_type": "code",
   "execution_count": 12,
   "id": "7454daab-b682-4023-b670-8560b2897083",
   "metadata": {},
   "outputs": [
    {
     "data": {
      "text/plain": [
       "array([0])"
      ]
     },
     "execution_count": 12,
     "metadata": {},
     "output_type": "execute_result"
    }
   ],
   "source": [
    "model.predict([[3.7, 6.4, 1.6, 0.4]])"
   ]
  },
  {
   "cell_type": "code",
   "execution_count": 14,
   "id": "7dbee37c-5876-42be-90b1-228f8b43b9c2",
   "metadata": {},
   "outputs": [],
   "source": [
    "with open('model.pickle', 'wb') as file:\n",
    "    pickle.dump(model, file)"
   ]
  },
  {
   "cell_type": "code",
   "execution_count": 15,
   "id": "7be32ed2-e7e3-4055-ac2b-e763798bcdc8",
   "metadata": {},
   "outputs": [],
   "source": [
    "def train_iris_nb():\n",
    "    \"\"\"Train a GaussianNB model on iris dataset.\"\"\"\n",
    "    X, y_train = load_iris(return_X_y=True, as_frame=True)\n",
    "    colnames = X.columns\n",
    "    X_train = X.values\n",
    "    model = GaussianNB()\n",
    "    model.fit(X_train, y_train)\n",
    "    return model"
   ]
  },
  {
   "cell_type": "code",
   "execution_count": 17,
   "id": "2aa916cb-df05-40ea-aa63-eb62a4e55aef",
   "metadata": {},
   "outputs": [],
   "source": [
    "def dump_model(model_path, model):\n",
    "    with open(model_path, 'wb') as file:\n",
    "        pickle.dump(model, file)"
   ]
  },
  {
   "cell_type": "code",
   "execution_count": 18,
   "id": "1f25b59f-c129-443a-b7b7-95fb15d5a64c",
   "metadata": {},
   "outputs": [],
   "source": [
    "def load_model(model_path):\n",
    "    with open(model_path, 'rb') as file:\n",
    "        model = pickle.load(file)\n",
    "    return model"
   ]
  },
  {
   "cell_type": "code",
   "execution_count": 19,
   "id": "5d0f0b5c-57ad-49f8-a4f9-a5f7836808ce",
   "metadata": {},
   "outputs": [],
   "source": [
    "dump_model('model.pickle', model)"
   ]
  },
  {
   "cell_type": "code",
   "execution_count": 21,
   "id": "9f1ca5f2-4a76-46b5-a1a4-8830d3d4e546",
   "metadata": {},
   "outputs": [],
   "source": [
    "loaded_model = load_model('model.pickle')"
   ]
  },
  {
   "cell_type": "code",
   "execution_count": 23,
   "id": "e7c7025c-b404-43e1-b9a4-e723716ec62b",
   "metadata": {},
   "outputs": [
    {
     "data": {
      "text/plain": [
       "array([0, 0, 0, 0, 0, 0, 0, 0, 0, 0, 0, 0, 0, 0, 0, 0, 0, 0, 0, 0, 0, 0,\n",
       "       0, 0, 0, 0, 0, 0, 0, 0, 0, 0, 0, 0, 0, 0, 0, 0, 0, 0, 0, 0, 0, 0,\n",
       "       0, 0, 0, 0, 0, 0, 1, 1, 2, 1, 1, 1, 1, 1, 1, 1, 1, 1, 1, 1, 1, 1,\n",
       "       1, 1, 1, 1, 2, 1, 1, 1, 1, 1, 1, 2, 1, 1, 1, 1, 1, 1, 1, 1, 1, 1,\n",
       "       1, 1, 1, 1, 1, 1, 1, 1, 1, 1, 1, 1, 2, 2, 2, 2, 2, 2, 1, 2, 2, 2,\n",
       "       2, 2, 2, 2, 2, 2, 2, 2, 2, 1, 2, 2, 2, 2, 2, 2, 2, 2, 2, 2, 2, 2,\n",
       "       2, 1, 2, 2, 2, 2, 2, 2, 2, 2, 2, 2, 2, 2, 2, 2, 2, 2])"
      ]
     },
     "execution_count": 23,
     "metadata": {},
     "output_type": "execute_result"
    }
   ],
   "source": [
    "loaded_model.predict(X)"
   ]
  },
  {
   "cell_type": "code",
   "execution_count": null,
   "id": "b97e24b5-7370-460f-992b-951d0aea202b",
   "metadata": {},
   "outputs": [],
   "source": []
  }
 ],
 "metadata": {
  "kernelspec": {
   "display_name": "Python 3",
   "language": "python",
   "name": "python3"
  },
  "language_info": {
   "codemirror_mode": {
    "name": "ipython",
    "version": 3
   },
   "file_extension": ".py",
   "mimetype": "text/x-python",
   "name": "python",
   "nbconvert_exporter": "python",
   "pygments_lexer": "ipython3",
   "version": "3.8.8"
  }
 },
 "nbformat": 4,
 "nbformat_minor": 5
}
